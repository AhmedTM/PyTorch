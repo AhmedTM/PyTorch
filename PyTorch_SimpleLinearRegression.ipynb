{
 "cells": [
  {
   "cell_type": "code",
   "execution_count": 42,
   "metadata": {},
   "outputs": [],
   "source": [
    "import numpy as np\n",
    "import pandas as pd \n",
    "import torch\n",
    "import seaborn as sns\n",
    "\n",
    "import matplotlib.pyplot as plt\n",
    "%matplotlib inline\n",
    "\n",
    "import torch.nn.functional as F\n",
    "from torch.autograd import Variable\n",
    "import warnings\n",
    "warnings.filterwarnings(action='ignore')\n",
    "import os"
   ]
  },
  {
   "cell_type": "markdown",
   "metadata": {},
   "source": [
    "# Making a random features vector and making random weight and bias for the fuction to be pedicted"
   ]
  },
  {
   "cell_type": "code",
   "execution_count": 43,
   "metadata": {},
   "outputs": [
    {
     "data": {
      "image/png": "[encoded data removed]",
      "text/plain": [
       "<Figure size 432x288 with 1 Axes>"
      ]
     },
     "metadata": {
      "needs_background": "light"
     },
     "output_type": "display_data"
    }
   ],
   "source": [
    "X = np.random.rand(30,1)*2.0\n",
    "w = np.random.rand(2,1)\n",
    "\n",
    "y = X*w[0] + w[1] + np.random.rand(30,1)*0.05\n",
    "\n",
    "marker = '.'\n",
    "plt.plot(X, y, marker)\n",
    "#plt.legend()\n",
    "plt.xlim(0, 1.8)\n",
    "plt.show()"
   ]
  },
  {
   "cell_type": "markdown",
   "metadata": {},
   "source": [
    "# Initializing weight and bias with random numbers and defining our model "
   ]
  },
  {
   "cell_type": "code",
   "execution_count": 44,
   "metadata": {},
   "outputs": [],
   "source": [
    "W = Variable(torch.rand(1,1),requires_grad=True)\n",
    "b = Variable(torch.rand(1),requires_grad=True)\n",
    "\n",
    "def linear(x):\n",
    "    return torch.matmul(x,W) + b"
   ]
  },
  {
   "cell_type": "markdown",
   "metadata": {},
   "source": [
    "# Time for traning and visualizing the result "
   ]
  },
  {
   "cell_type": "code",
   "execution_count": 50,
   "metadata": {},
   "outputs": [
    {
     "data": {
      "image/png": "[encoded data removed]",
      "text/plain": [
       "<Figure size 432x288 with 1 Axes>"
      ]
     },
     "metadata": {
      "needs_background": "light"
     },
     "output_type": "display_data"
    }
   ],
   "source": [
    "Xt = Variable(torch.from_numpy(X)).float()\n",
    "yt = Variable(torch.from_numpy(y)).float()\n",
    "\n",
    "for epoch in range(2500):\n",
    "    y_pred = linear(Xt)\n",
    "    \n",
    "    loss = torch.mean((y_pred-yt)**2)\n",
    "    \n",
    "    loss.backward()\n",
    "    \n",
    "    W.data = W.data - 0.005*W.grad.data\n",
    "    b.data = b.data - 0.005*b.grad.data\n",
    "    \n",
    "    W.grad.data.zero_()\n",
    "    b.grad.data.zero_()\n",
    "\n",
    "W_fin = W.data.numpy()\n",
    "b_fin = b.data.numpy()\n",
    "\n",
    "Y_pred = X*W_fin + b_fin\n",
    "marker = '.'\n",
    "plt.plot(X, y, marker,color='black')\n",
    "plt.plot(X, Y_pred, color='red')\n",
    "#plt.legend()\n",
    "plt.xlim(0, 1.8)\n",
    "plt.show()"
   ]
  },
  {
   "cell_type": "code",
   "execution_count": null,
   "metadata": {},
   "outputs": [],
   "source": []
  }
 ],
 "metadata": {
  "kernelspec": {
   "display_name": "Python 3",
   "language": "python",
   "name": "python3"
  },
  "language_info": {
   "codemirror_mode": {
    "name": "ipython",
    "version": 3
   },
   "file_extension": ".py",
   "mimetype": "text/x-python",
   "name": "python",
   "nbconvert_exporter": "python",
   "pygments_lexer": "ipython3",
   "version": "3.6.6"
  }
 },
 "nbformat": 4,
 "nbformat_minor": 2
}
